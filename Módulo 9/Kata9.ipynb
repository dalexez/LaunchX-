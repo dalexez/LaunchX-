{
  "cells": [
    {
      "cell_type": "markdown",
      "metadata": {},
      "source": [
        "# Ejercicio: Uso de funciones en Python"
      ]
    },
    {
      "cell_type": "markdown",
      "metadata": {},
      "source": [
        "### Ejercicio 1: Trabajar con argumentos en funciones\n",
        "\n",
        "Los argumentos requeridos en las funciones se utilizan cuando las funciones necesitan que esos argumentos funcionen correctamente. En este ejercicio, construirás un informe de combustible que requiere información de varias ubicaciones de combustible en todo el cohete.\n",
        "\n"
      ]
    },
    {
      "cell_type": "markdown",
      "metadata": {},
      "source": [
        "> **TIP**\n",
        "> Dedica unos minutos para tratar de encontrar una solución. Luego desplázate hacia abajo hasta la parte inferior para ver si has logrado compilar el programa de acuerdo con las especificaciones\n",
        "\n",
        "Comienza por crear una función que necesite tres lecturas de combustible y devuelva un informe:"
      ]
    },
    {
      "cell_type": "code",
      "execution_count": 4,
      "metadata": {},
      "outputs": [],
      "source": [
        "# Función para leer 3 tanques de combustible y muestre el promedio\n",
        "def lectura_combustible(primer_tanque, segundo_tanque, tercer_tanque):\n",
        "    combustible_promedio = (primer_tanque + segundo_tanque + tercer_tanque) / 3\n",
        "    return f\"\"\"{'-----Informe de combustible-----'}\n",
        "    Combustible en primer tanque: {primer_tanque}\n",
        "    Combustible en segundo tanque: {segundo_tanque}\n",
        "    Combustible en tercer tanque: {tercer_tanque}\n",
        "    Combustible promedio: {combustible_promedio}\n",
        "    \"\"\""
      ]
    },
    {
      "cell_type": "markdown",
      "metadata": {},
      "source": [
        "Ahora que hemos definido la función de informes, vamos a comprobarlo. Para esta misión, los tanques no están llenos:"
      ]
    },
    {
      "cell_type": "code",
      "execution_count": 5,
      "metadata": {},
      "outputs": [
        {
          "name": "stdout",
          "output_type": "stream",
          "text": [
            "-----Informe de combustible-----\n",
            "    Combustible en primer tanque: 80\n",
            "    Combustible en segundo tanque: 32\n",
            "    Combustible en tercer tanque: 38\n",
            "    Combustible promedio: 50.0\n",
            "    \n"
          ]
        }
      ],
      "source": [
        "\n",
        "# Llamamos a la función que genera el reporte print(funcion(tanque1, tanque2, tanque3))\n",
        "print(lectura_combustible(80,32,38))"
      ]
    },
    {
      "cell_type": "markdown",
      "metadata": {},
      "source": [
        "En lugar de simplemente crear el informe, la función también está calculando el promedio. Mejora la legibilidad extrayendo el cálculo promedio de la función en una nueva función para que el promedio se pueda hacer de forma independiente:"
      ]
    },
    {
      "cell_type": "code",
      "execution_count": 2,
      "metadata": {},
      "outputs": [],
      "source": [
        "# Función promedio \n",
        "def promedio_de_combustible(parametros_combustible):\n",
        "    total = 0\n",
        "    \n",
        "    cantidad_parametros = len(parametros_combustible)\n",
        "    for parametro in parametros_combustible:\n",
        "        total = total + parametro\n",
        "\n",
        "    return total / cantidad_parametros\n",
        "\n",
        "    "
      ]
    },
    {
      "cell_type": "markdown",
      "metadata": {},
      "source": [
        "Ahora actualiza la función de informes para llamando a la nueva función del promedio:\n"
      ]
    },
    {
      "cell_type": "code",
      "execution_count": 12,
      "metadata": {},
      "outputs": [
        {
          "name": "stdout",
          "output_type": "stream",
          "text": [
            "\n",
            "    -----Informe de combustible-----\n",
            "    Combustible en primer tanque: 80\n",
            "    Combustible en segundo tanque: 32\n",
            "    Combustible en tercer tanque: 38\n",
            "    Combustible promedio: 50.0\n",
            "    \n"
          ]
        }
      ],
      "source": [
        "# Actualiza la función\n",
        "def lectura_combustible(primer_tanque, segundo_tanque, tercer_tanque):\n",
        "    combustible_promedio = (primer_tanque + segundo_tanque + tercer_tanque) / 3\n",
        "    return f\"\"\"\n",
        "    -----Informe de combustible-----\n",
        "    Combustible en primer tanque: {primer_tanque}\n",
        "    Combustible en segundo tanque: {segundo_tanque}\n",
        "    Combustible en tercer tanque: {tercer_tanque}\n",
        "    Combustible promedio: {promedio_de_combustible([primer_tanque, segundo_tanque, tercer_tanque])}\n",
        "    \"\"\"\n",
        "\n",
        "print(lectura_combustible(80,32,38))"
      ]
    },
    {
      "cell_type": "markdown",
      "metadata": {},
      "source": [
        "> Recuerda: Lo importante es intentarlo, puedes auxiliarte de internet, libros, etc. El objetivo de una kata es la comprobación de la comprensión de la lección y su aplicación inmediata a la resolución de problemas. Go for it!"
      ]
    },
    {
      "cell_type": "markdown",
      "metadata": {},
      "source": [
        "## Ejercicio 2: Trabajo con argumentos de palabra clave"
      ]
    },
    {
      "cell_type": "markdown",
      "metadata": {},
      "source": [
        "### Ejercicio : Trabajar con argumentos de palabras clave en funciones\n",
        "En este ejercicio, construirás un informe de cohete que requiere varias piezas de información, como el tiempo hasta el destino, el combustible a la izquierda y el nombre del destino. Comienza por crear una función que creará un informe preciso de la misión:"
      ]
    },
    {
      "cell_type": "code",
      "execution_count": 13,
      "metadata": {},
      "outputs": [
        {
          "name": "stdout",
          "output_type": "stream",
          "text": [
            "\n",
            "    -----Informe de la mision-----\n",
            "    Hora del prelanzamiento: 16\n",
            "    Tiempo de vuelo: 60\n",
            "    Destino: Marte\n",
            "    Combustible en tanque interno: 8000\n",
            "    Combustible en tanque externo: 5000\n",
            "    ------------------------------\n",
            "    Tiempo total de vuelo: 76\n",
            "    Combustible total: 13000\n",
            "    \n"
          ]
        }
      ],
      "source": [
        "# Función con un informe preciso de la misión. Considera hora de prelanzamiento, tiempo de vuelo, destino, tanque externo y tanque interno\n",
        "\n",
        "def informe_mision(hora_prelanzamiento, tiempo_vuelo, destino, tanque_externo, tanque_interno):\n",
        "    return f\"\"\"\n",
        "    -----Informe de la mision-----\n",
        "    Hora del prelanzamiento: {hora_prelanzamiento}\n",
        "    Tiempo de vuelo: {tiempo_vuelo}\n",
        "    Destino: {destino}\n",
        "    Combustible en tanque interno: {tanque_interno}\n",
        "    Combustible en tanque externo: {tanque_externo}\n",
        "    ------------------------------\n",
        "    Tiempo total de vuelo: {hora_prelanzamiento + tiempo_vuelo}\n",
        "    Combustible total: {tanque_externo + tanque_interno}\n",
        "    \"\"\"\n",
        "\n",
        "print(informe_mision(16, 60, 'Marte', 5000, 8000))\n"
      ]
    },
    {
      "cell_type": "markdown",
      "metadata": {},
      "source": [
        "La función es problemática porque no se puede adaptar para minutos adicionales o tanques adicionales de combustible. Hazlo más flexible permitiendo cualquier número de pasos basados en el tiempo y cualquier número de tanques. En lugar de usar `*args` y `**kwargs`, aprovecha el hecho de que puedes usar cualquier nombre que desees. Asegurate que la función sea más legible mediante el uso de nombres de variables que están asociados con las entradas, como `*minutes` y `**fuel_reservoirs`:"
      ]
    },
    {
      "cell_type": "code",
      "execution_count": 24,
      "metadata": {},
      "outputs": [
        {
          "name": "stdout",
          "output_type": "stream",
          "text": [
            "                                             \n",
            "    -----Informe de la mision-----\n",
            "    Destino: Marte\n",
            "    ------------------------------\n",
            "    Tiempo total de vuelo: 76\n",
            "    Combustible total: 13000\n",
            "    \n"
          ]
        }
      ],
      "source": [
        "# Escribe tu nueva función de reporte considerando lo anterior \n",
        "def informe_mision(destino, *minutos, **tanques_combustible):  #quite la especificacion de tiempo de vuelo ya que es mas de una variable\n",
        "    return f\"\"\"                                             \n",
        "    -----Informe de la mision-----\n",
        "    Destino: {destino}\n",
        "    ------------------------------\n",
        "    Tiempo total de vuelo: {sum(minutos)}\n",
        "    Combustible total: {sum(tanques_combustible.values())}    \n",
        "    \"\"\"\n",
        "\n",
        "print(informe_mision('Marte', 16, 60, inter=5000, exter=8000))    #Use sum, revisando en el modulo 9 se usa para evitar usar un for como lo hice anteriormente"
      ]
    },
    {
      "cell_type": "markdown",
      "metadata": {},
      "source": [
        "Debido a que el combustible que queda en los tanques es específico de cada tanque, actualiza la función para usar el nombre de cada tanque en el informe:"
      ]
    },
    {
      "cell_type": "code",
      "execution_count": 33,
      "metadata": {},
      "outputs": [
        {
          "name": "stdout",
          "output_type": "stream",
          "text": [
            "                                             \n",
            "    -----Informe de la mision-----\n",
            "    Destino: Marte\n",
            "    ------------------------------\n",
            "    Tiempo total de vuelo: 76\n",
            "    Combustible total: 13000    \n",
            "    interior contiene 5000  exterior contiene 8000  \n"
          ]
        }
      ],
      "source": [
        "# Escribe tu nueva función\n",
        "def informe_mision(destino, *minutos, **tanques_combustible):  #quite la especificacion de tiempo de vuelo ya que es mas de una variable\n",
        "    reporte = f\"\"\"                                             \n",
        "    -----Informe de la mision-----\n",
        "    Destino: {destino}\n",
        "    ------------------------------\n",
        "    Tiempo total de vuelo: {sum(minutos)}\n",
        "    Combustible total: {sum(tanques_combustible.values())}    \n",
        "    \"\"\"\n",
        "    for tanque, litros in tanques_combustible.items():\n",
        "        reporte = reporte + f\"{tanque} contiene {litros}  \"\n",
        "    return reporte\n",
        "\n",
        "print(informe_mision('Marte', 16, 60, interior=5000, exterior=8000))"
      ]
    }
  ],
  "metadata": {
    "interpreter": {
      "hash": "205095b8b86ea82a021a8fc2ffba2b3bc9f8d0be25999901963b225939f75778"
    },
    "kernelspec": {
      "display_name": "Python 3.8.10 64-bit ('tmp': conda)",
      "name": "python3"
    },
    "language_info": {
      "codemirror_mode": {
        "name": "ipython",
        "version": 3
      },
      "file_extension": ".py",
      "mimetype": "text/x-python",
      "name": "python",
      "nbconvert_exporter": "python",
      "pygments_lexer": "ipython3",
      "version": "3.10.2"
    },
    "nteract": {
      "version": "nteract-front-end@1.0.0"
    },
    "orig_nbformat": 4
  },
  "nbformat": 4,
  "nbformat_minor": 2
}
